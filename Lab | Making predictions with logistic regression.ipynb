{
 "cells": [
  {
   "cell_type": "markdown",
   "id": "01fcc44b",
   "metadata": {},
   "source": [
    "# Lab | Making predictions with logistic regression\n",
    "\n",
    "**In this lab, you will be using the Sakila database of movie rentals.**\n",
    "\n",
    "In order to optimize our inventory, we would like to know which films will be rented next month and we are asked to create a model to predict it.\n",
    "\n",
    "**Instructions**\n",
    "\n",
    "1. Create a query or queries to extract the information you think may be relevant for building the prediction model. It should include some film features and some rental features. Use the data from 2005.\n",
    "2. Create a query to get the list of films and a boolean indicating if it was rented last month (August 2005). This would be our target variable.\n",
    "3. Read the data into a Pandas dataframe.\n",
    "4. Analyze extracted features and transform them. You may need to encode some categorical variables, or scale numerical variables.\n",
    "5. Create a logistic regression model to predict this variable from the cleaned data.\n",
    "Evaluate the results."
   ]
  },
  {
   "cell_type": "code",
   "execution_count": 2,
   "id": "7669933d",
   "metadata": {},
   "outputs": [],
   "source": [
    "import pymysql\n",
    "from sqlalchemy import create_engine\n",
    "import pandas as pd\n",
    "import getpass "
   ]
  },
  {
   "cell_type": "code",
   "execution_count": 14,
   "id": "139b6ace",
   "metadata": {},
   "outputs": [
    {
     "name": "stdout",
     "output_type": "stream",
     "text": [
      "········\n"
     ]
    }
   ],
   "source": [
    "password = getpass.getpass()"
   ]
  },
  {
   "cell_type": "code",
   "execution_count": 15,
   "id": "ddb3b072",
   "metadata": {},
   "outputs": [],
   "source": [
    "connection_string = 'mysql+pymysql://root:' + password + '@localhost/sakila'\n",
    "engine = create_engine(connection_string)"
   ]
  },
  {
   "cell_type": "markdown",
   "id": "669e5bc6",
   "metadata": {},
   "source": [
    "With some help from Ferreira I managed to import the cells I want. I adapted his SQL code to import film id, times a movie was rented in total, True/False whether it was rented in May, and how often that month, rental duration, length, rating, category and rental rate.\n",
    "\n",
    "I did not include information such as extra features (I don't believe they would matter much), Language (they are all English anyways), Title (we are judging by factors like category & rating, length, price and historical demand and have the id if we need to find out titles)"
   ]
  },
  {
   "cell_type": "code",
   "execution_count": 22,
   "id": "baaba23d",
   "metadata": {},
   "outputs": [],
   "source": [
    "query = '''SELECT f.film_id, COUNT(r.rental_id) AS times_rented, f.rental_duration, f.length,\n",
    "f.rating, c.name AS category, f.rental_rate, \n",
    "CASE\n",
    "    WHEN r.rental_date BETWEEN '2005-05-01' AND '2005-05-31' THEN True\n",
    "    ELSE False END AS may\n",
    "FROM sakila.film f\n",
    "Left JOIN inventory i\n",
    "    ON f.film_id = i.film_id\n",
    "JOIN sakila.rental r\n",
    "    ON i.inventory_id = r.inventory_id\n",
    "Join sakila.film_category fc\n",
    "    On fc.film_id = f.film_id\n",
    "Join sakila.category c\n",
    "    On c.category_id = fc.category_id\n",
    "WHERE r.rental_date BETWEEN '2005-01-01' AND '2005-12-31'\n",
    "GROUP BY film_id, rental_duration, f.length, f.rating, category, may, f.rental_rate;'''"
   ]
  },
  {
   "cell_type": "code",
   "execution_count": 23,
   "id": "8eeed996",
   "metadata": {},
   "outputs": [
    {
     "data": {
      "text/html": [
       "<div>\n",
       "<style scoped>\n",
       "    .dataframe tbody tr th:only-of-type {\n",
       "        vertical-align: middle;\n",
       "    }\n",
       "\n",
       "    .dataframe tbody tr th {\n",
       "        vertical-align: top;\n",
       "    }\n",
       "\n",
       "    .dataframe thead th {\n",
       "        text-align: right;\n",
       "    }\n",
       "</style>\n",
       "<table border=\"1\" class=\"dataframe\">\n",
       "  <thead>\n",
       "    <tr style=\"text-align: right;\">\n",
       "      <th></th>\n",
       "      <th>film_id</th>\n",
       "      <th>times_rented</th>\n",
       "      <th>rental_duration</th>\n",
       "      <th>length</th>\n",
       "      <th>rating</th>\n",
       "      <th>category</th>\n",
       "      <th>rental_rate</th>\n",
       "      <th>may</th>\n",
       "    </tr>\n",
       "  </thead>\n",
       "  <tbody>\n",
       "    <tr>\n",
       "      <th>0</th>\n",
       "      <td>19</td>\n",
       "      <td>19</td>\n",
       "      <td>6</td>\n",
       "      <td>113</td>\n",
       "      <td>PG</td>\n",
       "      <td>Action</td>\n",
       "      <td>0.99</td>\n",
       "      <td>0</td>\n",
       "    </tr>\n",
       "    <tr>\n",
       "      <th>1</th>\n",
       "      <td>19</td>\n",
       "      <td>1</td>\n",
       "      <td>6</td>\n",
       "      <td>113</td>\n",
       "      <td>PG</td>\n",
       "      <td>Action</td>\n",
       "      <td>0.99</td>\n",
       "      <td>1</td>\n",
       "    </tr>\n",
       "    <tr>\n",
       "      <th>2</th>\n",
       "      <td>21</td>\n",
       "      <td>2</td>\n",
       "      <td>3</td>\n",
       "      <td>129</td>\n",
       "      <td>R</td>\n",
       "      <td>Action</td>\n",
       "      <td>4.99</td>\n",
       "      <td>1</td>\n",
       "    </tr>\n",
       "    <tr>\n",
       "      <th>3</th>\n",
       "      <td>21</td>\n",
       "      <td>19</td>\n",
       "      <td>3</td>\n",
       "      <td>129</td>\n",
       "      <td>R</td>\n",
       "      <td>Action</td>\n",
       "      <td>4.99</td>\n",
       "      <td>0</td>\n",
       "    </tr>\n",
       "    <tr>\n",
       "      <th>4</th>\n",
       "      <td>29</td>\n",
       "      <td>10</td>\n",
       "      <td>5</td>\n",
       "      <td>168</td>\n",
       "      <td>NC-17</td>\n",
       "      <td>Action</td>\n",
       "      <td>2.99</td>\n",
       "      <td>0</td>\n",
       "    </tr>\n",
       "  </tbody>\n",
       "</table>\n",
       "</div>"
      ],
      "text/plain": [
       "   film_id  times_rented  rental_duration  length rating category  \\\n",
       "0       19            19                6     113     PG   Action   \n",
       "1       19             1                6     113     PG   Action   \n",
       "2       21             2                3     129      R   Action   \n",
       "3       21            19                3     129      R   Action   \n",
       "4       29            10                5     168  NC-17   Action   \n",
       "\n",
       "   rental_rate  may  \n",
       "0         0.99    0  \n",
       "1         0.99    1  \n",
       "2         4.99    1  \n",
       "3         4.99    0  \n",
       "4         2.99    0  "
      ]
     },
     "execution_count": 23,
     "metadata": {},
     "output_type": "execute_result"
    }
   ],
   "source": [
    "film = pd.read_sql(query, engine)\n",
    "film.head()"
   ]
  },
  {
   "cell_type": "code",
   "execution_count": null,
   "id": "5ba8af79",
   "metadata": {},
   "outputs": [],
   "source": [
    "film = pd.read_sql(query, engine)\n",
    "film"
   ]
  }
 ],
 "metadata": {
  "kernelspec": {
   "display_name": "Python 3 (ipykernel)",
   "language": "python",
   "name": "python3"
  },
  "language_info": {
   "codemirror_mode": {
    "name": "ipython",
    "version": 3
   },
   "file_extension": ".py",
   "mimetype": "text/x-python",
   "name": "python",
   "nbconvert_exporter": "python",
   "pygments_lexer": "ipython3",
   "version": "3.9.12"
  }
 },
 "nbformat": 4,
 "nbformat_minor": 5
}
