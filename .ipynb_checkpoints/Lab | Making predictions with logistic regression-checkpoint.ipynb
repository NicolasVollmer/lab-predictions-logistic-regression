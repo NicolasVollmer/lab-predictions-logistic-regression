{
 "cells": [
  {
   "cell_type": "markdown",
   "id": "01fcc44b",
   "metadata": {},
   "source": [
    "# Lab | Making predictions with logistic regression\n",
    "\n",
    "**In this lab, you will be using the Sakila database of movie rentals.**\n",
    "\n",
    "In order to optimize our inventory, we would like to know which films will be rented next month and we are asked to create a model to predict it.\n",
    "\n",
    "**Instructions**\n",
    "\n",
    "1. Create a query or queries to extract the information you think may be relevant for building the prediction model. It should include some film features and some rental features. Use the data from 2005.\n",
    "2. Create a query to get the list of films and a boolean indicating if it was rented last month (August 2005). This would be our target variable.\n",
    "3. Read the data into a Pandas dataframe.\n",
    "4. Analyze extracted features and transform them. You may need to encode some categorical variables, or scale numerical variables.\n",
    "5. Create a logistic regression model to predict this variable from the cleaned data.\n",
    "Evaluate the results."
   ]
  },
  {
   "cell_type": "code",
   "execution_count": 1,
   "id": "7669933d",
   "metadata": {},
   "outputs": [],
   "source": [
    "import pymysql\n",
    "from sqlalchemy import create_engine\n",
    "import pandas as pd\n",
    "import getpass "
   ]
  },
  {
   "cell_type": "code",
   "execution_count": 9,
   "id": "139b6ace",
   "metadata": {},
   "outputs": [
    {
     "name": "stdout",
     "output_type": "stream",
     "text": [
      "········\n"
     ]
    }
   ],
   "source": [
    "password = getpass.getpass()"
   ]
  },
  {
   "cell_type": "code",
   "execution_count": 10,
   "id": "ddb3b072",
   "metadata": {},
   "outputs": [],
   "source": [
    "connection_string = 'mysql+pymysql://root:' + password + '@localhost/sakila'\n",
    "engine = create_engine(connection_string)"
   ]
  },
  {
   "cell_type": "markdown",
   "id": "15aee774",
   "metadata": {},
   "source": [
    "With some help from Ferreira I managed to import the cells I want. I adapted his SQL code to import values I deemed importaint: film id, times a movie was rented in total, True/False whether it was rented in May, and how often that month, rental duration, length, rating, category and rental rate.\n",
    "\n",
    "I did not include information such as extra features (I don't believe they would matter much), Language (they are all English anyways), Title (we are judging by factors like category & rating, length, price and historical demand and have the id if we need to find out titles)"
   ]
  },
  {
   "cell_type": "code",
   "execution_count": 11,
   "id": "baaba23d",
   "metadata": {},
   "outputs": [],
   "source": [
    "query = '''SELECT f.film_id, COUNT(r.rental_id) AS times_rented, f.rental_duration, f.length,\n",
    "f.rating, c.name AS category, COUNT(DISTINCT i.inventory_id) AS stock, f.rental_rate, \n",
    "\tCASE\n",
    "    WHEN r.rental_date BETWEEN '2005-05-01' AND '2005-05-31' THEN TRUE\n",
    "    ELSE FALSE END AS may  \n",
    "FROM sakila.film f\n",
    "LEFT JOIN sakila.inventory i\n",
    "    ON f.film_id = i.film_id\n",
    "LEFT JOIN sakila.rental r\n",
    "    ON i.inventory_id = r.inventory_id\n",
    "JOIN sakila.film_category fc\n",
    "    ON fc.film_id = f.film_id\n",
    "JOIN sakila.category c\n",
    "    ON c.category_id = fc.category_id\n",
    "GROUP BY film_id;'''"
   ]
  },
  {
   "cell_type": "code",
   "execution_count": 12,
   "id": "8eeed996",
   "metadata": {},
   "outputs": [
    {
     "data": {
      "text/html": [
       "<div>\n",
       "<style scoped>\n",
       "    .dataframe tbody tr th:only-of-type {\n",
       "        vertical-align: middle;\n",
       "    }\n",
       "\n",
       "    .dataframe tbody tr th {\n",
       "        vertical-align: top;\n",
       "    }\n",
       "\n",
       "    .dataframe thead th {\n",
       "        text-align: right;\n",
       "    }\n",
       "</style>\n",
       "<table border=\"1\" class=\"dataframe\">\n",
       "  <thead>\n",
       "    <tr style=\"text-align: right;\">\n",
       "      <th></th>\n",
       "      <th>film_id</th>\n",
       "      <th>times_rented</th>\n",
       "      <th>rental_duration</th>\n",
       "      <th>length</th>\n",
       "      <th>rating</th>\n",
       "      <th>category</th>\n",
       "      <th>stock</th>\n",
       "      <th>rental_rate</th>\n",
       "      <th>may</th>\n",
       "    </tr>\n",
       "  </thead>\n",
       "  <tbody>\n",
       "    <tr>\n",
       "      <th>0</th>\n",
       "      <td>1</td>\n",
       "      <td>24</td>\n",
       "      <td>6</td>\n",
       "      <td>86</td>\n",
       "      <td>PG</td>\n",
       "      <td>Documentary</td>\n",
       "      <td>8</td>\n",
       "      <td>0.99</td>\n",
       "      <td>0</td>\n",
       "    </tr>\n",
       "    <tr>\n",
       "      <th>1</th>\n",
       "      <td>2</td>\n",
       "      <td>7</td>\n",
       "      <td>3</td>\n",
       "      <td>48</td>\n",
       "      <td>G</td>\n",
       "      <td>Horror</td>\n",
       "      <td>3</td>\n",
       "      <td>4.99</td>\n",
       "      <td>0</td>\n",
       "    </tr>\n",
       "    <tr>\n",
       "      <th>2</th>\n",
       "      <td>3</td>\n",
       "      <td>12</td>\n",
       "      <td>7</td>\n",
       "      <td>50</td>\n",
       "      <td>NC-17</td>\n",
       "      <td>Documentary</td>\n",
       "      <td>4</td>\n",
       "      <td>2.99</td>\n",
       "      <td>0</td>\n",
       "    </tr>\n",
       "    <tr>\n",
       "      <th>3</th>\n",
       "      <td>4</td>\n",
       "      <td>23</td>\n",
       "      <td>5</td>\n",
       "      <td>117</td>\n",
       "      <td>G</td>\n",
       "      <td>Horror</td>\n",
       "      <td>7</td>\n",
       "      <td>2.99</td>\n",
       "      <td>0</td>\n",
       "    </tr>\n",
       "    <tr>\n",
       "      <th>4</th>\n",
       "      <td>5</td>\n",
       "      <td>12</td>\n",
       "      <td>6</td>\n",
       "      <td>130</td>\n",
       "      <td>G</td>\n",
       "      <td>Family</td>\n",
       "      <td>3</td>\n",
       "      <td>2.99</td>\n",
       "      <td>1</td>\n",
       "    </tr>\n",
       "  </tbody>\n",
       "</table>\n",
       "</div>"
      ],
      "text/plain": [
       "   film_id  times_rented  rental_duration  length rating     category  stock  \\\n",
       "0        1            24                6      86     PG  Documentary      8   \n",
       "1        2             7                3      48      G       Horror      3   \n",
       "2        3            12                7      50  NC-17  Documentary      4   \n",
       "3        4            23                5     117      G       Horror      7   \n",
       "4        5            12                6     130      G       Family      3   \n",
       "\n",
       "   rental_rate  may  \n",
       "0         0.99    0  \n",
       "1         4.99    0  \n",
       "2         2.99    0  \n",
       "3         2.99    0  \n",
       "4         2.99    1  "
      ]
     },
     "execution_count": 12,
     "metadata": {},
     "output_type": "execute_result"
    }
   ],
   "source": [
    "film = pd.read_sql(query, engine)\n",
    "film.head()"
   ]
  },
  {
   "cell_type": "markdown",
   "id": "3e909bbb",
   "metadata": {},
   "source": [
    "### Analyze extracted features and transform them. You may need to encode some categorical variables, or scale numerical variables."
   ]
  },
  {
   "cell_type": "code",
   "execution_count": 13,
   "id": "bd9be288",
   "metadata": {},
   "outputs": [
    {
     "data": {
      "text/plain": [
       "(1000, 9)"
      ]
     },
     "execution_count": 13,
     "metadata": {},
     "output_type": "execute_result"
    }
   ],
   "source": [
    "film.shape"
   ]
  },
  {
   "cell_type": "code",
   "execution_count": 14,
   "id": "b86526ab",
   "metadata": {},
   "outputs": [
    {
     "data": {
      "text/plain": [
       "film_id            0\n",
       "times_rented       0\n",
       "rental_duration    0\n",
       "length             0\n",
       "rating             0\n",
       "category           0\n",
       "stock              0\n",
       "rental_rate        0\n",
       "may                0\n",
       "dtype: int64"
      ]
     },
     "execution_count": 14,
     "metadata": {},
     "output_type": "execute_result"
    }
   ],
   "source": [
    "film.isna().sum()"
   ]
  },
  {
   "cell_type": "code",
   "execution_count": 22,
   "id": "a4b1a841",
   "metadata": {
    "scrolled": true
   },
   "outputs": [
    {
     "data": {
      "text/html": [
       "<div>\n",
       "<style scoped>\n",
       "    .dataframe tbody tr th:only-of-type {\n",
       "        vertical-align: middle;\n",
       "    }\n",
       "\n",
       "    .dataframe tbody tr th {\n",
       "        vertical-align: top;\n",
       "    }\n",
       "\n",
       "    .dataframe thead th {\n",
       "        text-align: right;\n",
       "    }\n",
       "</style>\n",
       "<table border=\"1\" class=\"dataframe\">\n",
       "  <thead>\n",
       "    <tr style=\"text-align: right;\">\n",
       "      <th></th>\n",
       "      <th>count</th>\n",
       "      <th>mean</th>\n",
       "      <th>std</th>\n",
       "      <th>min</th>\n",
       "      <th>25%</th>\n",
       "      <th>50%</th>\n",
       "      <th>75%</th>\n",
       "      <th>max</th>\n",
       "    </tr>\n",
       "  </thead>\n",
       "  <tbody>\n",
       "    <tr>\n",
       "      <th>film_id</th>\n",
       "      <td>1000.0</td>\n",
       "      <td>500.500</td>\n",
       "      <td>288.819436</td>\n",
       "      <td>1.0</td>\n",
       "      <td>250.75</td>\n",
       "      <td>500.5</td>\n",
       "      <td>750.25</td>\n",
       "      <td>1000.0</td>\n",
       "    </tr>\n",
       "    <tr>\n",
       "      <th>times_rented</th>\n",
       "      <td>1000.0</td>\n",
       "      <td>16.045</td>\n",
       "      <td>7.349080</td>\n",
       "      <td>0.0</td>\n",
       "      <td>11.00</td>\n",
       "      <td>16.0</td>\n",
       "      <td>21.00</td>\n",
       "      <td>34.0</td>\n",
       "    </tr>\n",
       "    <tr>\n",
       "      <th>length</th>\n",
       "      <td>1000.0</td>\n",
       "      <td>115.272</td>\n",
       "      <td>40.426332</td>\n",
       "      <td>46.0</td>\n",
       "      <td>80.00</td>\n",
       "      <td>114.0</td>\n",
       "      <td>149.25</td>\n",
       "      <td>185.0</td>\n",
       "    </tr>\n",
       "    <tr>\n",
       "      <th>stock</th>\n",
       "      <td>1000.0</td>\n",
       "      <td>4.581</td>\n",
       "      <td>2.020277</td>\n",
       "      <td>0.0</td>\n",
       "      <td>3.00</td>\n",
       "      <td>5.0</td>\n",
       "      <td>6.00</td>\n",
       "      <td>8.0</td>\n",
       "    </tr>\n",
       "    <tr>\n",
       "      <th>may</th>\n",
       "      <td>1000.0</td>\n",
       "      <td>0.197</td>\n",
       "      <td>0.397931</td>\n",
       "      <td>0.0</td>\n",
       "      <td>0.00</td>\n",
       "      <td>0.0</td>\n",
       "      <td>0.00</td>\n",
       "      <td>1.0</td>\n",
       "    </tr>\n",
       "  </tbody>\n",
       "</table>\n",
       "</div>"
      ],
      "text/plain": [
       "               count     mean         std   min     25%    50%     75%     max\n",
       "film_id       1000.0  500.500  288.819436   1.0  250.75  500.5  750.25  1000.0\n",
       "times_rented  1000.0   16.045    7.349080   0.0   11.00   16.0   21.00    34.0\n",
       "length        1000.0  115.272   40.426332  46.0   80.00  114.0  149.25   185.0\n",
       "stock         1000.0    4.581    2.020277   0.0    3.00    5.0    6.00     8.0\n",
       "may           1000.0    0.197    0.397931   0.0    0.00    0.0    0.00     1.0"
      ]
     },
     "execution_count": 22,
     "metadata": {},
     "output_type": "execute_result"
    }
   ],
   "source": [
    "film.describe().T\n"
   ]
  },
  {
   "cell_type": "code",
   "execution_count": 16,
   "id": "0a6b51f9",
   "metadata": {},
   "outputs": [
    {
     "data": {
      "text/plain": [
       "film_id              int64\n",
       "times_rented         int64\n",
       "rental_duration      int64\n",
       "length               int64\n",
       "rating              object\n",
       "category            object\n",
       "stock                int64\n",
       "rental_rate        float64\n",
       "may                  int64\n",
       "dtype: object"
      ]
     },
     "execution_count": 16,
     "metadata": {},
     "output_type": "execute_result"
    }
   ],
   "source": [
    "film.dtypes\n"
   ]
  },
  {
   "cell_type": "code",
   "execution_count": 24,
   "id": "7b15ba53",
   "metadata": {},
   "outputs": [
    {
     "data": {
      "text/plain": [
       "PG-13    223\n",
       "NC-17    210\n",
       "R        195\n",
       "PG       194\n",
       "G        178\n",
       "Name: rating, dtype: int64"
      ]
     },
     "execution_count": 24,
     "metadata": {},
     "output_type": "execute_result"
    }
   ],
   "source": [
    "film['rating'].value_counts()"
   ]
  },
  {
   "cell_type": "code",
   "execution_count": 25,
   "id": "18f50219",
   "metadata": {},
   "outputs": [
    {
     "data": {
      "text/plain": [
       "Sports         74\n",
       "Foreign        73\n",
       "Family         69\n",
       "Documentary    68\n",
       "Animation      66\n",
       "Action         64\n",
       "New            63\n",
       "Drama          62\n",
       "Sci-Fi         61\n",
       "Games          61\n",
       "Children       60\n",
       "Comedy         58\n",
       "Classics       57\n",
       "Travel         57\n",
       "Horror         56\n",
       "Music          51\n",
       "Name: category, dtype: int64"
      ]
     },
     "execution_count": 25,
     "metadata": {},
     "output_type": "execute_result"
    }
   ],
   "source": [
    "film['category'].value_counts()"
   ]
  },
  {
   "cell_type": "code",
   "execution_count": 26,
   "id": "35c0df73",
   "metadata": {
    "scrolled": true
   },
   "outputs": [
    {
     "data": {
      "text/plain": [
       "6    212\n",
       "3    203\n",
       "4    203\n",
       "7    191\n",
       "5    191\n",
       "Name: rental_duration, dtype: int64"
      ]
     },
     "execution_count": 26,
     "metadata": {},
     "output_type": "execute_result"
    }
   ],
   "source": [
    "film['rental_duration'].value_counts()"
   ]
  },
  {
   "cell_type": "code",
   "execution_count": 18,
   "id": "d05fb5fb",
   "metadata": {
    "scrolled": true
   },
   "outputs": [
    {
     "data": {
      "text/plain": [
       "0.99    341\n",
       "4.99    336\n",
       "2.99    323\n",
       "Name: rental_rate, dtype: int64"
      ]
     },
     "execution_count": 18,
     "metadata": {},
     "output_type": "execute_result"
    }
   ],
   "source": [
    "film['rental_rate'].value_counts()"
   ]
  },
  {
   "cell_type": "markdown",
   "id": "2548c8d6",
   "metadata": {},
   "source": [
    "I would treat rental duration and rate as categoricals as there are only a handful of preset values for either column"
   ]
  },
  {
   "cell_type": "code",
   "execution_count": 19,
   "id": "b202a274",
   "metadata": {},
   "outputs": [],
   "source": [
    "film['rental_rate'] = film['rental_rate'].astype('object') "
   ]
  },
  {
   "cell_type": "code",
   "execution_count": 20,
   "id": "613d6e8c",
   "metadata": {},
   "outputs": [],
   "source": [
    "film['rental_duration'] = film['rental_duration'].astype('object') "
   ]
  },
  {
   "cell_type": "code",
   "execution_count": 21,
   "id": "04b193ae",
   "metadata": {},
   "outputs": [
    {
     "data": {
      "text/plain": [
       "film_id             int64\n",
       "times_rented        int64\n",
       "rental_duration    object\n",
       "length              int64\n",
       "rating             object\n",
       "category           object\n",
       "stock               int64\n",
       "rental_rate        object\n",
       "may                 int64\n",
       "dtype: object"
      ]
     },
     "execution_count": 21,
     "metadata": {},
     "output_type": "execute_result"
    }
   ],
   "source": [
    "film.dtypes"
   ]
  },
  {
   "cell_type": "code",
   "execution_count": 23,
   "id": "f0d436fd",
   "metadata": {
    "scrolled": false
   },
   "outputs": [
    {
     "data": {
      "text/html": [
       "<div>\n",
       "<style scoped>\n",
       "    .dataframe tbody tr th:only-of-type {\n",
       "        vertical-align: middle;\n",
       "    }\n",
       "\n",
       "    .dataframe tbody tr th {\n",
       "        vertical-align: top;\n",
       "    }\n",
       "\n",
       "    .dataframe thead th {\n",
       "        text-align: right;\n",
       "    }\n",
       "</style>\n",
       "<table border=\"1\" class=\"dataframe\">\n",
       "  <thead>\n",
       "    <tr style=\"text-align: right;\">\n",
       "      <th></th>\n",
       "      <th></th>\n",
       "      <th>rental_duration</th>\n",
       "    </tr>\n",
       "    <tr>\n",
       "      <th>rental_rate</th>\n",
       "      <th>rental_duration</th>\n",
       "      <th></th>\n",
       "    </tr>\n",
       "  </thead>\n",
       "  <tbody>\n",
       "    <tr>\n",
       "      <th rowspan=\"5\" valign=\"top\">0.99</th>\n",
       "      <th>3</th>\n",
       "      <td>78</td>\n",
       "    </tr>\n",
       "    <tr>\n",
       "      <th>4</th>\n",
       "      <td>72</td>\n",
       "    </tr>\n",
       "    <tr>\n",
       "      <th>5</th>\n",
       "      <td>56</td>\n",
       "    </tr>\n",
       "    <tr>\n",
       "      <th>6</th>\n",
       "      <td>76</td>\n",
       "    </tr>\n",
       "    <tr>\n",
       "      <th>7</th>\n",
       "      <td>59</td>\n",
       "    </tr>\n",
       "    <tr>\n",
       "      <th rowspan=\"5\" valign=\"top\">2.99</th>\n",
       "      <th>3</th>\n",
       "      <td>63</td>\n",
       "    </tr>\n",
       "    <tr>\n",
       "      <th>4</th>\n",
       "      <td>61</td>\n",
       "    </tr>\n",
       "    <tr>\n",
       "      <th>5</th>\n",
       "      <td>59</td>\n",
       "    </tr>\n",
       "    <tr>\n",
       "      <th>6</th>\n",
       "      <td>70</td>\n",
       "    </tr>\n",
       "    <tr>\n",
       "      <th>7</th>\n",
       "      <td>70</td>\n",
       "    </tr>\n",
       "    <tr>\n",
       "      <th rowspan=\"5\" valign=\"top\">4.99</th>\n",
       "      <th>3</th>\n",
       "      <td>62</td>\n",
       "    </tr>\n",
       "    <tr>\n",
       "      <th>4</th>\n",
       "      <td>70</td>\n",
       "    </tr>\n",
       "    <tr>\n",
       "      <th>5</th>\n",
       "      <td>76</td>\n",
       "    </tr>\n",
       "    <tr>\n",
       "      <th>6</th>\n",
       "      <td>66</td>\n",
       "    </tr>\n",
       "    <tr>\n",
       "      <th>7</th>\n",
       "      <td>62</td>\n",
       "    </tr>\n",
       "  </tbody>\n",
       "</table>\n",
       "</div>"
      ],
      "text/plain": [
       "                             rental_duration\n",
       "rental_rate rental_duration                 \n",
       "0.99        3                             78\n",
       "            4                             72\n",
       "            5                             56\n",
       "            6                             76\n",
       "            7                             59\n",
       "2.99        3                             63\n",
       "            4                             61\n",
       "            5                             59\n",
       "            6                             70\n",
       "            7                             70\n",
       "4.99        3                             62\n",
       "            4                             70\n",
       "            5                             76\n",
       "            6                             66\n",
       "            7                             62"
      ]
     },
     "execution_count": 23,
     "metadata": {},
     "output_type": "execute_result"
    }
   ],
   "source": [
    "# examining relationship between rate and duration\n",
    "\n",
    "film.groupby(['rental_rate','rental_duration']).agg({'rental_duration':'count'})"
   ]
  },
  {
   "cell_type": "code",
   "execution_count": 28,
   "id": "cfbcfac5",
   "metadata": {},
   "outputs": [
    {
     "data": {
      "text/html": [
       "<div>\n",
       "<style scoped>\n",
       "    .dataframe tbody tr th:only-of-type {\n",
       "        vertical-align: middle;\n",
       "    }\n",
       "\n",
       "    .dataframe tbody tr th {\n",
       "        vertical-align: top;\n",
       "    }\n",
       "\n",
       "    .dataframe thead th {\n",
       "        text-align: right;\n",
       "    }\n",
       "</style>\n",
       "<table border=\"1\" class=\"dataframe\">\n",
       "  <thead>\n",
       "    <tr style=\"text-align: right;\">\n",
       "      <th>rental_duration</th>\n",
       "      <th>3</th>\n",
       "      <th>4</th>\n",
       "      <th>5</th>\n",
       "      <th>6</th>\n",
       "      <th>7</th>\n",
       "    </tr>\n",
       "    <tr>\n",
       "      <th>rental_rate</th>\n",
       "      <th></th>\n",
       "      <th></th>\n",
       "      <th></th>\n",
       "      <th></th>\n",
       "      <th></th>\n",
       "    </tr>\n",
       "  </thead>\n",
       "  <tbody>\n",
       "    <tr>\n",
       "      <th>0.99</th>\n",
       "      <td>78</td>\n",
       "      <td>72</td>\n",
       "      <td>56</td>\n",
       "      <td>76</td>\n",
       "      <td>59</td>\n",
       "    </tr>\n",
       "    <tr>\n",
       "      <th>2.99</th>\n",
       "      <td>63</td>\n",
       "      <td>61</td>\n",
       "      <td>59</td>\n",
       "      <td>70</td>\n",
       "      <td>70</td>\n",
       "    </tr>\n",
       "    <tr>\n",
       "      <th>4.99</th>\n",
       "      <td>62</td>\n",
       "      <td>70</td>\n",
       "      <td>76</td>\n",
       "      <td>66</td>\n",
       "      <td>62</td>\n",
       "    </tr>\n",
       "  </tbody>\n",
       "</table>\n",
       "</div>"
      ],
      "text/plain": [
       "rental_duration   3   4   5   6   7\n",
       "rental_rate                        \n",
       "0.99             78  72  56  76  59\n",
       "2.99             63  61  59  70  70\n",
       "4.99             62  70  76  66  62"
      ]
     },
     "execution_count": 28,
     "metadata": {},
     "output_type": "execute_result"
    }
   ],
   "source": [
    "pd.crosstab(film['rental_rate'],film['rental_duration'])"
   ]
  },
  {
   "cell_type": "markdown",
   "id": "e176bedb",
   "metadata": {},
   "source": [
    "There doesn't appear to be too much distinction between rental durations and price in consumer's eyes"
   ]
  },
  {
   "cell_type": "code",
   "execution_count": null,
   "id": "9693b84b",
   "metadata": {},
   "outputs": [],
   "source": []
  },
  {
   "cell_type": "code",
   "execution_count": null,
   "id": "ca28a379",
   "metadata": {},
   "outputs": [],
   "source": []
  },
  {
   "cell_type": "code",
   "execution_count": null,
   "id": "b1741ace",
   "metadata": {},
   "outputs": [],
   "source": []
  }
 ],
 "metadata": {
  "kernelspec": {
   "display_name": "Python 3 (ipykernel)",
   "language": "python",
   "name": "python3"
  },
  "language_info": {
   "codemirror_mode": {
    "name": "ipython",
    "version": 3
   },
   "file_extension": ".py",
   "mimetype": "text/x-python",
   "name": "python",
   "nbconvert_exporter": "python",
   "pygments_lexer": "ipython3",
   "version": "3.9.12"
  }
 },
 "nbformat": 4,
 "nbformat_minor": 5
}
